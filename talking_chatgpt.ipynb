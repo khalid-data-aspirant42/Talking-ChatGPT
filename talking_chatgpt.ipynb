{
  "cells": [
    {
      "cell_type": "markdown",
      "metadata": {
        "id": "view-in-github",
        "colab_type": "text"
      },
      "source": [
        "<a href=\"https://colab.research.google.com/github/khalid-data-aspirant42/Talking-ChatGPT/blob/main/talking_chatgpt.ipynb\" target=\"_parent\"><img src=\"https://colab.research.google.com/assets/colab-badge.svg\" alt=\"Open In Colab\"/></a>"
      ]
    },
    {
      "cell_type": "code",
      "execution_count": null,
      "metadata": {
        "id": "JnDYOa_NT81R"
      },
      "outputs": [],
      "source": [
        "# Import the OpenAI library\n",
        "import openai\n",
        "\n",
        "# Import summarizer library\n",
        "import nltk\n",
        "from nltk.corpus import stopwords\n",
        "from nltk.tokenize import word_tokenize, sent_tokenize\n",
        "from nltk.stem import PorterStemmer\n",
        "# nltk.download('punkt')\n",
        "\n",
        "# import library for voice creation\n",
        "import pyttsx3\n",
        "\n",
        "# import library for voice recognition\n",
        "import speech_recognition as sr"
      ]
    },
    {
      "cell_type": "code",
      "execution_count": null,
      "metadata": {
        "id": "WmArLBBrT81X"
      },
      "outputs": [],
      "source": [
        "# Set up the OpenAI API client :\n",
        "openai.api_key = \"your openai api\""
      ]
    },
    {
      "cell_type": "code",
      "execution_count": null,
      "metadata": {
        "id": "A2n9xw3rT81Z"
      },
      "outputs": [],
      "source": [
        "# Set up the model (more models, visit https://beta.openai.com/playground)\n",
        "model_engine = \"text-davinci-003\""
      ]
    },
    {
      "cell_type": "code",
      "execution_count": null,
      "metadata": {
        "id": "52bdsh6sT81a"
      },
      "outputs": [],
      "source": [
        "# Define a function that sends a message to ChatGPT\n",
        "def chat_query(prompt):\n",
        "    completions = openai.Completion.create(\n",
        "        engine=model_engine,\n",
        "        prompt=prompt,\n",
        "        max_tokens=2048,\n",
        "        n=1,\n",
        "        temperature=0.5,\n",
        "    )\n",
        "\n",
        "    message = completions.choices[0].text\n",
        "    return message"
      ]
    },
    {
      "cell_type": "code",
      "execution_count": null,
      "metadata": {
        "id": "0Xxl241RT81b"
      },
      "outputs": [],
      "source": [
        "# Define a function that handles the conversation\n",
        "def conversation_handler(prompt):\n",
        "    # Send the prompt to ChatGPT\n",
        "    response = chat_query(prompt)\n",
        "    return response"
      ]
    },
    {
      "cell_type": "code",
      "execution_count": null,
      "metadata": {
        "id": "1Yzvcu5uT81c"
      },
      "outputs": [],
      "source": [
        "### Creating function to summarize long sentence\n",
        "def summarize(text, n=3):\n",
        "    # tokenize the text into sentences\n",
        "    sentences = sent_tokenize(text)\n",
        "\n",
        "    # remove stopwords and stem the words\n",
        "    stop_words = set(stopwords.words(\"english\"))\n",
        "    ps = PorterStemmer()\n",
        "    words = [word_tokenize(sentence) for sentence in sentences]\n",
        "    words = [[ps.stem(word.lower()) for word in sentence if word.lower() not in stop_words] for sentence in words]\n",
        "\n",
        "    # calculate the word frequency\n",
        "    frequency = {}\n",
        "    for sentence in words:\n",
        "        for word in sentence:\n",
        "            if word in frequency:\n",
        "                frequency[word] += 1\n",
        "            else:\n",
        "                frequency[word] = 1\n",
        "\n",
        "    # sort the sentences by score\n",
        "    score = {}\n",
        "    for i in range(len(sentences)):\n",
        "        for word in words[i]:\n",
        "            if word in frequency:\n",
        "                if i in score:\n",
        "                    score[i] += frequency[word]\n",
        "                else:\n",
        "                    score[i] = frequency[word]\n",
        "\n",
        "    top_sentences = sorted(score, key=score.get, reverse=True)[:n]\n",
        "    summary = [sentences[i] for i in top_sentences]\n",
        "    return \" \".join(summary)\n"
      ]
    },
    {
      "cell_type": "code",
      "execution_count": null,
      "metadata": {
        "id": "FSO___F0T81e"
      },
      "outputs": [],
      "source": [
        "### Creating function that converts text-to-speech\n",
        "def speak(text):\n",
        "    # initialize the pyttsx3 engine\n",
        "    engine = pyttsx3.init()\n",
        "\n",
        "    # set the speech rate and volume\n",
        "    rate = engine.getProperty('rate')\n",
        "    engine.setProperty('rate', 150)\n",
        "    volume = engine.getProperty('volume')\n",
        "    engine.setProperty('volume', 1.0)\n",
        "\n",
        "    # convert the text to speech\n",
        "    engine.say(text)\n",
        "    engine.runAndWait()"
      ]
    },
    {
      "cell_type": "code",
      "execution_count": null,
      "metadata": {
        "id": "nZRa6LYYT81f",
        "outputId": "5743d959-76f6-42bc-9641-8f450f75c126"
      },
      "outputs": [
        {
          "name": "stdout",
          "output_type": "stream",
          "text": [
            "Say something!\n",
            "result2:\n",
            "{   'alternative': [   {   'confidence': 0.88687527,\n",
            "                           'transcript': 'what are the uses of quantum machine '\n",
            "                                         'learning'},\n",
            "                       {   'transcript': 'are the uses of quantum machine '\n",
            "                                         'learning'}],\n",
            "    'final': True}\n"
          ]
        }
      ],
      "source": [
        "### getting voice input\n",
        "# create a recognizer object\n",
        "r = sr.Recognizer()\n",
        "\n",
        "# use the microphone as a source\n",
        "with sr.Microphone() as source:\n",
        "    print(\"Say something!\")\n",
        "    speak(\"Hello! I am your personal assistance. How can i help you?\")\n",
        "    audio = r.listen(source, timeout=100)\n",
        "\n",
        "text = r.recognize_google(audio)"
      ]
    },
    {
      "cell_type": "code",
      "execution_count": null,
      "metadata": {
        "id": "rc8CaEBuT81h",
        "outputId": "ccfae51d-1d4c-48f1-c2bf-60b026ff322e"
      },
      "outputs": [
        {
          "name": "stdout",
          "output_type": "stream",
          "text": [
            "Image Recognition: Quantum machine learning can be used to improve the accuracy of image recognition algorithms.\n"
          ]
        }
      ],
      "source": [
        "# Main program starts here:\n",
        "if __name__ == \"__main__\":\n",
        "  # Start the conversation\n",
        "  sen = conversation_handler(text)\n",
        "  summary = summarize(sen,n=1)\n",
        "  print(summary)\n",
        "  speak(summary)"
      ]
    },
    {
      "cell_type": "markdown",
      "source": [
        "### Note: Created with the help of ChatGPT"
      ],
      "metadata": {
        "id": "r9T0_EXgVZeo"
      }
    }
  ],
  "metadata": {
    "kernelspec": {
      "display_name": "Python 3",
      "language": "python",
      "name": "python3"
    },
    "language_info": {
      "codemirror_mode": {
        "name": "ipython",
        "version": 3
      },
      "file_extension": ".py",
      "mimetype": "text/x-python",
      "name": "python",
      "nbconvert_exporter": "python",
      "pygments_lexer": "ipython3",
      "version": "3.11.2"
    },
    "orig_nbformat": 4,
    "vscode": {
      "interpreter": {
        "hash": "5238573367df39f7286bb46f9ff5f08f63a01a80960060ce41e3c79b190280fa"
      }
    },
    "colab": {
      "provenance": [],
      "include_colab_link": true
    }
  },
  "nbformat": 4,
  "nbformat_minor": 0
}